{
  "nbformat": 4,
  "nbformat_minor": 0,
  "metadata": {
    "colab": {
      "name": "raspagem e manipulação de dados baja.ipynb",
      "provenance": [],
      "authorship_tag": "ABX9TyMPAbazHjStkHXHnkTis2cu",
      "include_colab_link": true
    },
    "kernelspec": {
      "name": "python3",
      "display_name": "Python 3"
    },
    "language_info": {
      "name": "python"
    }
  },
  "cells": [
    {
      "cell_type": "markdown",
      "metadata": {
        "id": "view-in-github",
        "colab_type": "text"
      },
      "source": [
        "<a href=\"https://colab.research.google.com/github/alexxdantass/DadosAbertosUFRN/blob/master/raspagem_e_manipula%C3%A7%C3%A3o_de_dados_baja.ipynb\" target=\"_parent\"><img src=\"https://colab.research.google.com/assets/colab-badge.svg\" alt=\"Open In Colab\"/></a>"
      ]
    },
    {
      "cell_type": "markdown",
      "metadata": {
        "id": "SJQMsv5LaGzL"
      },
      "source": [
        "RASPAGEM DE DADOS E CRIAÇÃO DE BANCO DE DADOS.\n",
        "\n",
        "Este notebook tem como objetivo criar um banco de dados a respeito dos resultados dos últimos campeonatos Nacionais de BAJA.\n",
        "\n",
        "Os dados encontram-se disponíveis na página da SAE Brasil em formato PDF, por isso, ao decorrer do Notebook será necessário fazer a rapagem de dados.\n"
      ]
    },
    {
      "cell_type": "markdown",
      "metadata": {
        "id": "huabakmHdyTA"
      },
      "source": [
        "Em primeiro lugar, precisamos instalar a biblioteca `tabula-py`, ela será responsável por ler o nosso PDF e retornar uma lista de dataframes, onde cada um dos dataframes contem uma tabela encontrada no arquivo.\n",
        "\n",
        "para fazer a instalação da biblioteca, utilizamos a seguinte linha de código.\n",
        "\n",
        "```\n",
        "!pip3 install tabula-py\n",
        "```\n",
        "\n",
        "Após instalar a biblioteca `tabula-py`, iremos importa-la junto com a biblioteca `pandas`.\n",
        "\n",
        "```\n",
        "import tabula \n",
        "import pandas as pd\n",
        "```\n",
        "\n",
        "Obs: Não é necessário instalar a biblioteca `pandas`, pois o google colab já possui a biblioteca préviamente instalada.\n",
        "\n",
        "\n",
        "\n",
        "\n"
      ]
    },
    {
      "cell_type": "code",
      "metadata": {
        "id": "PUqnlsHX4LvE"
      },
      "source": [
        "!pip3 install tabula-py\n",
        "\n",
        "import tabula \n",
        "import pandas as pd"
      ],
      "execution_count": null,
      "outputs": []
    },
    {
      "cell_type": "markdown",
      "metadata": {
        "id": "x-9tUS9rteoe"
      },
      "source": [
        "Importada as bibliotecas, precisamos ler o arquivo PDF, para isso criamos a variável `file_path`, a ela iremos atribuir a URL do arquivo, obtida através do website da SAE Brasil.\n",
        "\n",
        "```\n",
        "file_path = \"http://saebrasil.org.br/wp-content/uploads/2020/03/baja-nacional-2012.pdf\"\n",
        "```\n",
        "\n",
        "A função utilizada para leitura do arquivo PDF é a função `tabula.read_pdf()`\n",
        "\n",
        "```\n",
        "tabela = tabula.read_pdf(file_path, output_format=\"dataframe\")\n",
        "```\n",
        "\n",
        "Essa função recebe como arguento o arquivo PDF (`file_path`) e nos retorna uma `list`, onde cada item dessa lista é um `DataFrame` que representa uma tabela de nosso arquivo PDF. Como nosso arquivo possui apenas uma tabela, utilizaremos apenas o primeiro item (0) da `list` como `DataFrame` principal.\n",
        "\n",
        "```\n",
        "df = tabela[0]\n",
        "```\n",
        "\n"
      ]
    },
    {
      "cell_type": "code",
      "metadata": {
        "colab": {
          "base_uri": "https://localhost:8080/",
          "height": 221
        },
        "id": "eQIwFkCW7hZ9",
        "outputId": "165e4705-e7e8-4d61-c184-0c9eaf089695"
      },
      "source": [
        "file_path = \"http://saebrasil.org.br/wp-content/uploads/2020/03/baja-nacional-2012.pdf\"\n",
        "\n",
        "tabela = tabula.read_pdf(file_path, output_format=\"dataframe\")\n",
        "df = tabela[0]\n"
      ],
      "execution_count": null,
      "outputs": [
        {
          "output_type": "error",
          "ename": "NameError",
          "evalue": "ignored",
          "traceback": [
            "\u001b[0;31m---------------------------------------------------------------------------\u001b[0m",
            "\u001b[0;31mNameError\u001b[0m                                 Traceback (most recent call last)",
            "\u001b[0;32m<ipython-input-1-b57c049780b4>\u001b[0m in \u001b[0;36m<module>\u001b[0;34m()\u001b[0m\n\u001b[1;32m      1\u001b[0m \u001b[0mfile_path\u001b[0m \u001b[0;34m=\u001b[0m \u001b[0;34m\"http://saebrasil.org.br/wp-content/uploads/2020/03/baja-nacional-2012.pdf\"\u001b[0m\u001b[0;34m\u001b[0m\u001b[0;34m\u001b[0m\u001b[0m\n\u001b[1;32m      2\u001b[0m \u001b[0;34m\u001b[0m\u001b[0m\n\u001b[0;32m----> 3\u001b[0;31m \u001b[0mtabela\u001b[0m \u001b[0;34m=\u001b[0m \u001b[0mtabula\u001b[0m\u001b[0;34m.\u001b[0m\u001b[0mread_pdf\u001b[0m\u001b[0;34m(\u001b[0m\u001b[0mfile_path\u001b[0m\u001b[0;34m,\u001b[0m \u001b[0moutput_format\u001b[0m\u001b[0;34m=\u001b[0m\u001b[0;34m\"dataframe\"\u001b[0m\u001b[0;34m)\u001b[0m\u001b[0;34m\u001b[0m\u001b[0;34m\u001b[0m\u001b[0m\n\u001b[0m\u001b[1;32m      4\u001b[0m \u001b[0mdf\u001b[0m \u001b[0;34m=\u001b[0m \u001b[0mtabela\u001b[0m\u001b[0;34m[\u001b[0m\u001b[0;36m0\u001b[0m\u001b[0;34m]\u001b[0m\u001b[0;34m\u001b[0m\u001b[0;34m\u001b[0m\u001b[0m\n",
            "\u001b[0;31mNameError\u001b[0m: name 'tabula' is not defined"
          ]
        }
      ]
    },
    {
      "cell_type": "markdown",
      "metadata": {
        "id": "eoFqb6H1Gsji"
      },
      "source": [
        "Agora que temos o DataFrame com os dados da tabela, vamos criar um banco de dados não relacional. Optamos por criar um banco não relacional devido ao fato dos resultados sere diferentes a cada ano.\n",
        "\n",
        "Primeiro criamos um `Dict` chamado `database`, nele vamos adicionar os dados extraidos do nosso `DataFrame`.\n",
        "\n",
        "```\n",
        "database = {}\n",
        "```\n",
        "\n",
        "Após a criação do `Dict` que servirá de banco de dados, utilizaremos a função `DataFrame.iterrows()`, com ela será possível iterar linha por linha em nossa tabela de resultados. Ao ler as linhas, criaremos um outros `Dicts` chamado `equipe`, nele adicionaremos os dados de cada equipe individualmente, em seguida, adicionamos a coleção de equipes ao banco de dados.\n",
        "\n",
        "\n",
        "\n",
        "```\n",
        "for row in df.iterrows():\n",
        "  equipe = {\n",
        "      \"Resultados\" : {\n",
        "          \"Segurança\" : row[1][3],\n",
        "          \"Relatório\" : row[1][4],\n",
        "          \"Apresentação\" : row[1][5],\n",
        "          \"Aceleração\" : row[1][6],\n",
        "          \"Velocidade\" : row[1][7],\n",
        "          \"Tração\" : row[1][8],\n",
        "          \"S&T\" : row[1][9],\n",
        "          \"Enduro\" : row[1][10],\n",
        "          \"Pontuação\" : row[1][11],\n",
        "          \"Classificação\" : row[1][12]\n",
        "      }\n",
        "  }\n",
        "  database[row[1][1]] = equipe\n",
        "```\n",
        "\n",
        "\n"
      ]
    },
    {
      "cell_type": "code",
      "metadata": {
        "colab": {
          "base_uri": "https://localhost:8080/"
        },
        "id": "L-az2VE66snn",
        "outputId": "ad229b50-cb5a-403b-9bbb-c7af6bcac4a3"
      },
      "source": [
        "database = {}\n",
        "\n",
        "for row in df.iterrows():\n",
        "  equipe = {\n",
        "      \"Resultados\" : {\n",
        "          \"Segurança\" : row[1][3],\n",
        "          \"Relatório\" : row[1][4],\n",
        "          \"Apresentação\" : row[1][5],\n",
        "          \"Aceleração\" : row[1][6],\n",
        "          \"Velocidade\" : row[1][7],\n",
        "          \"Tração\" : row[1][8],\n",
        "          \"S&T\" : row[1][9],\n",
        "          \"Enduro\" : row[1][10],\n",
        "          \"Pontuação\" : row[1][11],\n",
        "          \"Classificação\" : row[1][12]\n",
        "      }\n",
        "  }\n",
        "  database[row[1][1]] = equipe"
      ],
      "execution_count": null,
      "outputs": [
        {
          "output_type": "stream",
          "name": "stdout",
          "text": [
            "{'FEI BAJA 2': {'Resultados': {'Segurança': '4,50', 'Relatório': '125,80', 'Apresentação': '134,88', 'Aceleração': '60,00', 'Velocidade': '60,00', 'Tração': '45,17', 'S&T': '70,00', 'Enduro': '126,32', 'Pontuação': '626,66', 'Classificação': 9}}, 'FEI BAJA 1': {'Resultados': {'Segurança': '4,25', 'Relatório': '125,60', 'Apresentação': '124,03', 'Aceleração': '53,81', 'Velocidade': '48,43', 'Tração': '37,09', 'S&T': '69,72', 'Enduro': '189,47', 'Pontuação': '652,39', 'Classificação': 7}}, 'POLI CISER FÊNIX': {'Resultados': {'Segurança': '15,00', 'Relatório': '123,00', 'Apresentação': '134,75', 'Aceleração': '53,94', 'Velocidade': '55,28', 'Tração': '37,43', 'S&T': '56,72', 'Enduro': '336,84', 'Pontuação': '812,96', 'Classificação': 3}}, 'POLI CISER MAGNUS': {'Resultados': {'Segurança': '15,50', 'Relatório': '123,80', 'Apresentação': '161,82', 'Aceleração': '56,45', 'Velocidade': '57,40', 'Tração': '34,27', 'S&T': '65,06', 'Enduro': '364,91', 'Pontuação': '879,22', 'Classificação': 1}}, 'MANGUE BAJA 2': {'Resultados': {'Segurança': '16,00', 'Relatório': '123,80', 'Apresentação': '130,11', 'Aceleração': '46,21', 'Velocidade': '44,65', 'Tração': '24,87', 'S&T': '62,51', 'Enduro': '329,82', 'Pontuação': '777,96', 'Classificação': 5}}, 'MANGUE BAJA 1': {'Resultados': {'Segurança': '15,75', 'Relatório': '123,60', 'Apresentação': '148,31', 'Aceleração': '42,92', 'Velocidade': '42,52', 'Tração': '22,46', 'S&T': '63,50', 'Enduro': '400,00', 'Pontuação': '859,07', 'Classificação': 2}}, 'CEFAST': {'Resultados': {'Segurança': '-0,75', 'Relatório': '85,40', 'Apresentação': '89,25', 'Aceleração': '44,23', 'Velocidade': '47,72', 'Tração': '0,00', 'S&T': '54,14', 'Enduro': '273,68', 'Pontuação': '593,67', 'Classificação': 15}}, 'UFSC TUPY JAGUAR': {'Resultados': {'Segurança': '-15,00', 'Relatório': '97,20', 'Apresentação': '114,30', 'Aceleração': '0,00', 'Velocidade': '0,00', 'Tração': '0,00', 'S&T': '0,00', 'Enduro': '21,05', 'Pontuação': '217,55', 'Classificação': 43}}, 'UFSC TUPY PUMA': {'Resultados': {'Segurança': '-15,00', 'Relatório': '123,00', 'Apresentação': '97,89', 'Aceleração': '0,00', 'Velocidade': '0,00', 'Tração': '0,00', 'S&T': '0,00', 'Enduro': '112,28', 'Pontuação': '318,17', 'Classificação': 31}}, 'BAJA UFMG': {'Resultados': {'Segurança': '1,75', 'Relatório': '112,80', 'Apresentação': '112,14', 'Aceleração': '52,30', 'Velocidade': '44,65', 'Tração': '45,67', 'S&T': '63,76', 'Enduro': '266,67', 'Pontuação': '699,74', 'Classificação': 6}}, 'VITÓRIA BAJA 1': {'Resultados': {'Segurança': '1,50', 'Relatório': '98,20', 'Apresentação': '88,14', 'Aceleração': '39,54', 'Velocidade': '37,32', 'Tração': '43,87', 'S&T': '67,92', 'Enduro': '140,35', 'Pontuação': '516,85', 'Classificação': 19}}, 'VITÓRIA BAJA 2': {'Resultados': {'Segurança': '-1,50', 'Relatório': '86,60', 'Apresentação': '70,89', 'Aceleração': '0,00', 'Velocidade': '8,74', 'Tração': '40,26', 'S&T': '58,35', 'Enduro': '343,86', 'Pontuação': '607,21', 'Classificação': 14}}, 'EESC USP 2': {'Resultados': {'Segurança': '3,25', 'Relatório': '122,60', 'Apresentação': '95,25', 'Aceleração': '48,05', 'Velocidade': '47,48', 'Tração': '28,63', 'S&T': '40,59', 'Enduro': '154,39', 'Pontuação': '540,23', 'Classificação': 17}}, 'EESC USP 1': {'Resultados': {'Segurança': '16,00', 'Relatório': '117,20', 'Apresentação': '97,14', 'Aceleração': '47,44', 'Velocidade': '48,43', 'Tração': '22,78', 'S&T': '52,67', 'Enduro': '392,98', 'Pontuação': '794,64', 'Classificação': 4}}, 'CISER IST BAJA SAE': {'Resultados': {'Segurança': '0,00', 'Relatório': '79,00', 'Apresentação': '54,00', 'Aceleração': '23,87', 'Velocidade': '32,83', 'Tração': '41,49', 'S&T': '41,08', 'Enduro': '350,88', 'Pontuação': '623,15', 'Classificação': 10}}, 'FORD UFPBAJA\\rINEXORÁVEL': {'Resultados': {'Segurança': '0,75', 'Relatório': '84,80', 'Apresentação': '110,25', 'Aceleração': '46,64', 'Velocidade': '54,57', 'Tração': '27,58', 'S&T': '60,83', 'Enduro': '70,18', 'Pontuação': '455,59', 'Classificação': 22}}, 'FORD UFPBAJA\\rIMPROCRASTINÁVEL': {'Resultados': {'Segurança': '0,00', 'Relatório': '0,00', 'Apresentação': '0,00', 'Aceleração': '0,00', 'Velocidade': '0,00', 'Tração': '0,00', 'S&T': '0,00', 'Enduro': '0,00', 'Pontuação': '0,00', 'Classificação': 70}}, 'PIRATAS DO VALE': {'Resultados': {'Segurança': '0,00', 'Relatório': '70,50', 'Apresentação': '70,50', 'Aceleração': '0,00', 'Velocidade': '0,00', 'Tração': '0,00', 'S&T': '0,00', 'Enduro': '112,28', 'Pontuação': '253,28', 'Classificação': 37}}, 'KOMIKETO BAJA UFSJ 1': {'Resultados': {'Segurança': '0,00', 'Relatório': '75,30', 'Apresentação': '73,14', 'Aceleração': '0,00', 'Velocidade': '0,00', 'Tração': '0,00', 'S&T': '0,00', 'Enduro': '245,61', 'Pontuação': '394,05', 'Classificação': 25}}, 'KOMIKETO BAJA UFSJ 2': {'Resultados': {'Segurança': '-15,00', 'Relatório': '94,50', 'Apresentação': '95,64', 'Aceleração': '0,00', 'Velocidade': '0,00', 'Tração': '0,00', 'S&T': '0,00', 'Enduro': '91,23', 'Pontuação': '266,37', 'Classificação': 35}}, 'MAUÁ 2': {'Resultados': {'Segurança': '-4,00', 'Relatório': '113,70', 'Apresentação': '75,00', 'Aceleração': '41,05', 'Velocidade': '22,44', 'Tração': '29,99', 'S&T': '64,02', 'Enduro': '280,70', 'Pontuação': '622,90', 'Classificação': 11}}, 'MAUÁ 1': {'Resultados': {'Segurança': '1,00', 'Relatório': '114,70', 'Apresentação': '93,39', 'Aceleração': '49,96', 'Velocidade': '44,41', 'Tração': '48,76', 'S&T': '54,36', 'Enduro': '7,02', 'Pontuação': '413,60', 'Classificação': 24}}, 'PAC BAJA UNESP 1': {'Resultados': {'Segurança': '-15,00', 'Relatório': '44,30', 'Apresentação': '44,64', 'Aceleração': '0,00', 'Velocidade': '0,00', 'Tração': '0,00', 'S&T': '0,00', 'Enduro': '266,67', 'Pontuação': '340,61', 'Classificação': 29}}, 'PAC BAJA UNESP 2': {'Resultados': {'Segurança': '-35,00', 'Relatório': '59,60', 'Apresentação': '24,00', 'Aceleração': '0,00', 'Velocidade': '0,00', 'Tração': '0,00', 'S&T': '0,00', 'Enduro': '182,46', 'Pontuação': '231,06', 'Classificação': 40}}, 'CORISCO VINGADOR': {'Resultados': {'Segurança': '-15,00', 'Relatório': '97,80', 'Apresentação': '33,00', 'Aceleração': '0,00', 'Velocidade': '0,00', 'Tração': '0,00', 'S&T': '0,00', 'Enduro': '0,00', 'Pontuação': '115,80', 'Classificação': 52}}, 'CORISCO CAVALO DOIDO': {'Resultados': {'Segurança': '0,00', 'Relatório': '78,20', 'Apresentação': '45,00', 'Aceleração': '0,00', 'Velocidade': '0,00', 'Tração': '0,00', 'S&T': '0,00', 'Enduro': '28,07', 'Pontuação': '151,27', 'Classificação': 46}}}\n"
          ]
        }
      ]
    },
    {
      "cell_type": "markdown",
      "metadata": {
        "id": "aR21qOMw7iNJ"
      },
      "source": [
        "Ao final, transnformaremos o dicionário `database` em um arquivo `JSON`, para isso, importaremos a biblioteca `JSON` e utilizaremos a função `json.dump()`.\n",
        "\n",
        "```\n",
        "with open(\"BD_baja.json\", \"w\") as outfile:\n",
        "    json.dump(database, outfile)\n",
        "```\n",
        "\n",
        "PRONTO!!!! Agora temos um banco de dados com os resultados do campeonato nacional de BAJA do ano de 2012. Por se tratar de arquivos com tipos de dados diferentes a cada ano, será necessário fazer a adaptação na manipulação dos resultados para cada campeonato, por esse motivo foi escolhido criar um banco de dados não relacional.\n",
        "\n"
      ]
    },
    {
      "cell_type": "code",
      "metadata": {
        "id": "rKv_BCVu9ZYR"
      },
      "source": [
        "with open(\"BD_baja.json\", \"w\") as outfile:\n",
        "    json.dump(database, outfile)"
      ],
      "execution_count": null,
      "outputs": []
    }
  ]
}